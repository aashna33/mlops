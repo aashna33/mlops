{
  "cells": [
    {
      "cell_type": "code",
      "execution_count": 2,
      "id": "2134f63a",
      "metadata": {
        "id": "2134f63a"
      },
      "outputs": [],
      "source": [
        "import numpy as np\n",
        "from sklearn.datasets import make_classification\n",
        "from sklearn.model_selection import train_test_split\n",
        "from sklearn.linear_model import LogisticRegression\n",
        "from sklearn.ensemble import RandomForestClassifier\n",
        "from xgboost import XGBClassifier\n",
        "from sklearn.metrics import classification_report\n",
        "import warnings\n",
        "warnings.filterwarnings('ignore')"
      ]
    },
    {
      "cell_type": "code",
      "execution_count": null,
      "id": "c4bd7a2b",
      "metadata": {},
      "outputs": [],
      "source": []
    },
    {
      "cell_type": "code",
      "execution_count": 3,
      "id": "8a467445",
      "metadata": {
        "colab": {
          "base_uri": "https://localhost:8080/"
        },
        "id": "8a467445",
        "outputId": "0902eabf-0f16-4101-bfa3-9c46eeaed539"
      },
      "outputs": [
        {
          "data": {
            "text/plain": [
              "(array([0, 1]), array([900, 100]))"
            ]
          },
          "execution_count": 3,
          "metadata": {},
          "output_type": "execute_result"
        }
      ],
      "source": [
        "# Step 1: Create an imbalanced binary classification dataset\n",
        "X, y = make_classification(n_samples=1000, n_features=10, n_informative=2, n_redundant=8,\n",
        "                           weights=[0.9, 0.1], flip_y=0, random_state=42)\n",
        "\n",
        "np.unique(y, return_counts=True)"
      ]
    },
    {
      "cell_type": "code",
      "execution_count": 4,
      "id": "7fc473ad",
      "metadata": {
        "id": "7fc473ad"
      },
      "outputs": [],
      "source": [
        "# Split the dataset into training and testing sets\n",
        "X_train, X_test, y_train, y_test = train_test_split(X, y, test_size=0.3, stratify=y, random_state=42)"
      ]
    },
    {
      "cell_type": "markdown",
      "id": "ce174acd",
      "metadata": {
        "id": "ce174acd"
      },
      "source": [
        "#### Handle class imbalance"
      ]
    },
    {
      "cell_type": "code",
      "execution_count": 5,
      "id": "0c6d768a",
      "metadata": {
        "colab": {
          "base_uri": "https://localhost:8080/"
        },
        "id": "0c6d768a",
        "outputId": "07ddcf73-b0ce-498a-850c-06f2fa0e5e99"
      },
      "outputs": [
        {
          "data": {
            "text/plain": [
              "(array([0, 1]), array([619, 619]))"
            ]
          },
          "execution_count": 5,
          "metadata": {},
          "output_type": "execute_result"
        }
      ],
      "source": [
        "from imblearn.combine import SMOTETomek\n",
        "\n",
        "smt = SMOTETomek(random_state=42)\n",
        "X_train_res, y_train_res = smt.fit_resample(X_train, y_train)\n",
        "np.unique(y_train_res, return_counts=True)\n",
        "\n"
      ]
    },
    {
      "cell_type": "markdown",
      "id": "f04a52b2",
      "metadata": {
        "id": "f04a52b2"
      },
      "source": [
        "### Track Experiments"
      ]
    },
    {
      "cell_type": "code",
      "execution_count": 6,
      "id": "82fdaf1c",
      "metadata": {
        "id": "82fdaf1c"
      },
      "outputs": [],
      "source": [
        "models = [\n",
        "    (\n",
        "        \"Logistic Regression\",\n",
        "        {\"C\": 1, \"solver\": 'liblinear'},\n",
        "        LogisticRegression(),\n",
        "        (X_train, y_train),\n",
        "        (X_test, y_test)\n",
        "    ),\n",
        "    (\n",
        "        \"Random Forest\",\n",
        "        {\"n_estimators\": 30, \"max_depth\": 3},\n",
        "        RandomForestClassifier(),\n",
        "        (X_train, y_train),\n",
        "        (X_test, y_test)\n",
        "    ),\n",
        "    (\n",
        "        \"XGBClassifier\",\n",
        "        {\"use_label_encoder\": False, \"eval_metric\": 'logloss'},\n",
        "        XGBClassifier(),\n",
        "        (X_train, y_train),\n",
        "        (X_test, y_test)\n",
        "    ),\n",
        "    (\n",
        "        \"XGBClassifier With SMOTE\",\n",
        "        {\"use_label_encoder\": False, \"eval_metric\": 'logloss'},\n",
        "        XGBClassifier(),\n",
        "        (X_train_res, y_train_res),\n",
        "        (X_test, y_test)\n",
        "    )\n",
        "]"
      ]
    },
    {
      "cell_type": "code",
      "execution_count": 7,
      "id": "13a992c3",
      "metadata": {
        "id": "13a992c3"
      },
      "outputs": [],
      "source": [
        "reports = []\n",
        "\n",
        "for model_name, params, model, train_set, test_set in models:\n",
        "    X_train = train_set[0]\n",
        "    y_train = train_set[1]\n",
        "    X_test = test_set[0]\n",
        "    y_test = test_set[1]\n",
        "\n",
        "    model.set_params(**params)\n",
        "    model.fit(X_train, y_train)\n",
        "    y_pred = model.predict(X_test)\n",
        "    report = classification_report(y_test, y_pred, output_dict=True)\n",
        "    reports.append(report)"
      ]
    },
    {
      "cell_type": "code",
      "execution_count": null,
      "id": "Qa06XwRoRGmK",
      "metadata": {
        "id": "Qa06XwRoRGmK"
      },
      "outputs": [],
      "source": []
    },
    {
      "cell_type": "code",
      "execution_count": 8,
      "id": "d9301bc0",
      "metadata": {
        "colab": {
          "base_uri": "https://localhost:8080/"
        },
        "id": "d9301bc0",
        "outputId": "0ef02167-41d3-4bcb-919e-6fd1875283ed"
      },
      "outputs": [
        {
          "name": "stderr",
          "output_type": "stream",
          "text": [
            "\n",
            "[notice] A new release of pip is available: 24.0 -> 25.2\n",
            "[notice] To update, run: python.exe -m pip install --upgrade pip\n"
          ]
        },
        {
          "name": "stdout",
          "output_type": "stream",
          "text": [
            "Requirement already satisfied: mlflow in c:\\users\\nadee\\desktop\\pract_mlops\\venv\\lib\\site-packages (3.4.0)\n",
            "Requirement already satisfied: mlflow-skinny==3.4.0 in c:\\users\\nadee\\desktop\\pract_mlops\\venv\\lib\\site-packages (from mlflow) (3.4.0)\n",
            "Requirement already satisfied: mlflow-tracing==3.4.0 in c:\\users\\nadee\\desktop\\pract_mlops\\venv\\lib\\site-packages (from mlflow) (3.4.0)\n",
            "Requirement already satisfied: Flask<4 in c:\\users\\nadee\\desktop\\pract_mlops\\venv\\lib\\site-packages (from mlflow) (3.1.2)\n",
            "Requirement already satisfied: alembic!=1.10.0,<2 in c:\\users\\nadee\\desktop\\pract_mlops\\venv\\lib\\site-packages (from mlflow) (1.16.5)\n",
            "Requirement already satisfied: cryptography<46,>=43.0.0 in c:\\users\\nadee\\desktop\\pract_mlops\\venv\\lib\\site-packages (from mlflow) (45.0.7)\n",
            "Requirement already satisfied: docker<8,>=4.0.0 in c:\\users\\nadee\\desktop\\pract_mlops\\venv\\lib\\site-packages (from mlflow) (7.1.0)\n",
            "Requirement already satisfied: fastmcp<3,>=2.0.0 in c:\\users\\nadee\\desktop\\pract_mlops\\venv\\lib\\site-packages (from mlflow) (2.12.3)\n",
            "Requirement already satisfied: graphene<4 in c:\\users\\nadee\\desktop\\pract_mlops\\venv\\lib\\site-packages (from mlflow) (3.4.3)\n",
            "Requirement already satisfied: matplotlib<4 in c:\\users\\nadee\\desktop\\pract_mlops\\venv\\lib\\site-packages (from mlflow) (3.10.6)\n",
            "Requirement already satisfied: numpy<3 in c:\\users\\nadee\\desktop\\pract_mlops\\venv\\lib\\site-packages (from mlflow) (2.3.3)\n",
            "Requirement already satisfied: pandas<3 in c:\\users\\nadee\\desktop\\pract_mlops\\venv\\lib\\site-packages (from mlflow) (2.3.2)\n",
            "Requirement already satisfied: pyarrow<22,>=4.0.0 in c:\\users\\nadee\\desktop\\pract_mlops\\venv\\lib\\site-packages (from mlflow) (21.0.0)\n",
            "Requirement already satisfied: scikit-learn<2 in c:\\users\\nadee\\desktop\\pract_mlops\\venv\\lib\\site-packages (from mlflow) (1.7.2)\n",
            "Requirement already satisfied: scipy<2 in c:\\users\\nadee\\desktop\\pract_mlops\\venv\\lib\\site-packages (from mlflow) (1.16.2)\n",
            "Requirement already satisfied: sqlalchemy<3,>=1.4.0 in c:\\users\\nadee\\desktop\\pract_mlops\\venv\\lib\\site-packages (from mlflow) (2.0.43)\n",
            "Requirement already satisfied: waitress<4 in c:\\users\\nadee\\desktop\\pract_mlops\\venv\\lib\\site-packages (from mlflow) (3.0.2)\n",
            "Requirement already satisfied: cachetools<7,>=5.0.0 in c:\\users\\nadee\\desktop\\pract_mlops\\venv\\lib\\site-packages (from mlflow-skinny==3.4.0->mlflow) (5.5.2)\n",
            "Requirement already satisfied: click<9,>=7.0 in c:\\users\\nadee\\desktop\\pract_mlops\\venv\\lib\\site-packages (from mlflow-skinny==3.4.0->mlflow) (8.3.0)\n",
            "Requirement already satisfied: cloudpickle<4 in c:\\users\\nadee\\desktop\\pract_mlops\\venv\\lib\\site-packages (from mlflow-skinny==3.4.0->mlflow) (3.1.1)\n",
            "Requirement already satisfied: databricks-sdk<1,>=0.20.0 in c:\\users\\nadee\\desktop\\pract_mlops\\venv\\lib\\site-packages (from mlflow-skinny==3.4.0->mlflow) (0.67.0)\n",
            "Requirement already satisfied: fastapi<1 in c:\\users\\nadee\\desktop\\pract_mlops\\venv\\lib\\site-packages (from mlflow-skinny==3.4.0->mlflow) (0.117.1)\n",
            "Requirement already satisfied: gitpython<4,>=3.1.9 in c:\\users\\nadee\\desktop\\pract_mlops\\venv\\lib\\site-packages (from mlflow-skinny==3.4.0->mlflow) (3.1.45)\n",
            "Requirement already satisfied: importlib_metadata!=4.7.0,<9,>=3.7.0 in c:\\users\\nadee\\desktop\\pract_mlops\\venv\\lib\\site-packages (from mlflow-skinny==3.4.0->mlflow) (8.7.0)\n",
            "Requirement already satisfied: opentelemetry-api<3,>=1.9.0 in c:\\users\\nadee\\desktop\\pract_mlops\\venv\\lib\\site-packages (from mlflow-skinny==3.4.0->mlflow) (1.37.0)\n",
            "Requirement already satisfied: opentelemetry-proto<3,>=1.9.0 in c:\\users\\nadee\\desktop\\pract_mlops\\venv\\lib\\site-packages (from mlflow-skinny==3.4.0->mlflow) (1.37.0)\n",
            "Requirement already satisfied: opentelemetry-sdk<3,>=1.9.0 in c:\\users\\nadee\\desktop\\pract_mlops\\venv\\lib\\site-packages (from mlflow-skinny==3.4.0->mlflow) (1.37.0)\n",
            "Requirement already satisfied: packaging<26 in c:\\users\\nadee\\desktop\\pract_mlops\\venv\\lib\\site-packages (from mlflow-skinny==3.4.0->mlflow) (25.0)\n",
            "Requirement already satisfied: protobuf<7,>=3.12.0 in c:\\users\\nadee\\desktop\\pract_mlops\\venv\\lib\\site-packages (from mlflow-skinny==3.4.0->mlflow) (6.32.1)\n",
            "Requirement already satisfied: pydantic<3,>=1.10.8 in c:\\users\\nadee\\desktop\\pract_mlops\\venv\\lib\\site-packages (from mlflow-skinny==3.4.0->mlflow) (2.11.9)\n",
            "Requirement already satisfied: python-dotenv<2,>=0.19.0 in c:\\users\\nadee\\desktop\\pract_mlops\\venv\\lib\\site-packages (from mlflow-skinny==3.4.0->mlflow) (1.1.1)\n",
            "Requirement already satisfied: pyyaml<7,>=5.1 in c:\\users\\nadee\\desktop\\pract_mlops\\venv\\lib\\site-packages (from mlflow-skinny==3.4.0->mlflow) (6.0.3)\n",
            "Requirement already satisfied: requests<3,>=2.17.3 in c:\\users\\nadee\\desktop\\pract_mlops\\venv\\lib\\site-packages (from mlflow-skinny==3.4.0->mlflow) (2.32.5)\n",
            "Requirement already satisfied: sqlparse<1,>=0.4.0 in c:\\users\\nadee\\desktop\\pract_mlops\\venv\\lib\\site-packages (from mlflow-skinny==3.4.0->mlflow) (0.5.3)\n",
            "Requirement already satisfied: typing-extensions<5,>=4.0.0 in c:\\users\\nadee\\desktop\\pract_mlops\\venv\\lib\\site-packages (from mlflow-skinny==3.4.0->mlflow) (4.15.0)\n",
            "Requirement already satisfied: uvicorn<1 in c:\\users\\nadee\\desktop\\pract_mlops\\venv\\lib\\site-packages (from mlflow-skinny==3.4.0->mlflow) (0.37.0)\n",
            "Requirement already satisfied: Mako in c:\\users\\nadee\\desktop\\pract_mlops\\venv\\lib\\site-packages (from alembic!=1.10.0,<2->mlflow) (1.3.10)\n",
            "Requirement already satisfied: cffi>=1.14 in c:\\users\\nadee\\desktop\\pract_mlops\\venv\\lib\\site-packages (from cryptography<46,>=43.0.0->mlflow) (2.0.0)\n",
            "Requirement already satisfied: pywin32>=304 in c:\\users\\nadee\\desktop\\pract_mlops\\venv\\lib\\site-packages (from docker<8,>=4.0.0->mlflow) (311)\n",
            "Requirement already satisfied: urllib3>=1.26.0 in c:\\users\\nadee\\desktop\\pract_mlops\\venv\\lib\\site-packages (from docker<8,>=4.0.0->mlflow) (2.5.0)\n",
            "Requirement already satisfied: authlib>=1.5.2 in c:\\users\\nadee\\desktop\\pract_mlops\\venv\\lib\\site-packages (from fastmcp<3,>=2.0.0->mlflow) (1.6.4)\n",
            "Requirement already satisfied: cyclopts>=3.0.0 in c:\\users\\nadee\\desktop\\pract_mlops\\venv\\lib\\site-packages (from fastmcp<3,>=2.0.0->mlflow) (3.24.0)\n",
            "Requirement already satisfied: exceptiongroup>=1.2.2 in c:\\users\\nadee\\desktop\\pract_mlops\\venv\\lib\\site-packages (from fastmcp<3,>=2.0.0->mlflow) (1.3.0)\n",
            "Requirement already satisfied: httpx>=0.28.1 in c:\\users\\nadee\\desktop\\pract_mlops\\venv\\lib\\site-packages (from fastmcp<3,>=2.0.0->mlflow) (0.28.1)\n",
            "Requirement already satisfied: mcp<2.0.0,>=1.12.4 in c:\\users\\nadee\\desktop\\pract_mlops\\venv\\lib\\site-packages (from fastmcp<3,>=2.0.0->mlflow) (1.15.0)\n",
            "Requirement already satisfied: openapi-core>=0.19.5 in c:\\users\\nadee\\desktop\\pract_mlops\\venv\\lib\\site-packages (from fastmcp<3,>=2.0.0->mlflow) (0.19.5)\n",
            "Requirement already satisfied: openapi-pydantic>=0.5.1 in c:\\users\\nadee\\desktop\\pract_mlops\\venv\\lib\\site-packages (from fastmcp<3,>=2.0.0->mlflow) (0.5.1)\n",
            "Requirement already satisfied: pyperclip>=1.9.0 in c:\\users\\nadee\\desktop\\pract_mlops\\venv\\lib\\site-packages (from fastmcp<3,>=2.0.0->mlflow) (1.10.0)\n",
            "Requirement already satisfied: rich>=13.9.4 in c:\\users\\nadee\\desktop\\pract_mlops\\venv\\lib\\site-packages (from fastmcp<3,>=2.0.0->mlflow) (14.1.0)\n",
            "Requirement already satisfied: blinker>=1.9.0 in c:\\users\\nadee\\desktop\\pract_mlops\\venv\\lib\\site-packages (from Flask<4->mlflow) (1.9.0)\n",
            "Requirement already satisfied: itsdangerous>=2.2.0 in c:\\users\\nadee\\desktop\\pract_mlops\\venv\\lib\\site-packages (from Flask<4->mlflow) (2.2.0)\n",
            "Requirement already satisfied: jinja2>=3.1.2 in c:\\users\\nadee\\desktop\\pract_mlops\\venv\\lib\\site-packages (from Flask<4->mlflow) (3.1.6)\n",
            "Requirement already satisfied: markupsafe>=2.1.1 in c:\\users\\nadee\\desktop\\pract_mlops\\venv\\lib\\site-packages (from Flask<4->mlflow) (3.0.2)\n",
            "Requirement already satisfied: werkzeug>=3.1.0 in c:\\users\\nadee\\desktop\\pract_mlops\\venv\\lib\\site-packages (from Flask<4->mlflow) (3.1.1)\n",
            "Requirement already satisfied: graphql-core<3.3,>=3.1 in c:\\users\\nadee\\desktop\\pract_mlops\\venv\\lib\\site-packages (from graphene<4->mlflow) (3.2.6)\n",
            "Requirement already satisfied: graphql-relay<3.3,>=3.1 in c:\\users\\nadee\\desktop\\pract_mlops\\venv\\lib\\site-packages (from graphene<4->mlflow) (3.2.0)\n",
            "Requirement already satisfied: python-dateutil<3,>=2.7.0 in c:\\users\\nadee\\desktop\\pract_mlops\\venv\\lib\\site-packages (from graphene<4->mlflow) (2.9.0.post0)\n",
            "Requirement already satisfied: contourpy>=1.0.1 in c:\\users\\nadee\\desktop\\pract_mlops\\venv\\lib\\site-packages (from matplotlib<4->mlflow) (1.3.3)\n",
            "Requirement already satisfied: cycler>=0.10 in c:\\users\\nadee\\desktop\\pract_mlops\\venv\\lib\\site-packages (from matplotlib<4->mlflow) (0.12.1)\n",
            "Requirement already satisfied: fonttools>=4.22.0 in c:\\users\\nadee\\desktop\\pract_mlops\\venv\\lib\\site-packages (from matplotlib<4->mlflow) (4.60.0)\n",
            "Requirement already satisfied: kiwisolver>=1.3.1 in c:\\users\\nadee\\desktop\\pract_mlops\\venv\\lib\\site-packages (from matplotlib<4->mlflow) (1.4.9)\n",
            "Requirement already satisfied: pillow>=8 in c:\\users\\nadee\\desktop\\pract_mlops\\venv\\lib\\site-packages (from matplotlib<4->mlflow) (11.3.0)\n",
            "Requirement already satisfied: pyparsing>=2.3.1 in c:\\users\\nadee\\desktop\\pract_mlops\\venv\\lib\\site-packages (from matplotlib<4->mlflow) (3.2.5)\n",
            "Requirement already satisfied: pytz>=2020.1 in c:\\users\\nadee\\desktop\\pract_mlops\\venv\\lib\\site-packages (from pandas<3->mlflow) (2025.2)\n",
            "Requirement already satisfied: tzdata>=2022.7 in c:\\users\\nadee\\desktop\\pract_mlops\\venv\\lib\\site-packages (from pandas<3->mlflow) (2025.2)\n",
            "Requirement already satisfied: joblib>=1.2.0 in c:\\users\\nadee\\desktop\\pract_mlops\\venv\\lib\\site-packages (from scikit-learn<2->mlflow) (1.5.2)\n",
            "Requirement already satisfied: threadpoolctl>=3.1.0 in c:\\users\\nadee\\desktop\\pract_mlops\\venv\\lib\\site-packages (from scikit-learn<2->mlflow) (3.6.0)\n",
            "Requirement already satisfied: greenlet>=1 in c:\\users\\nadee\\desktop\\pract_mlops\\venv\\lib\\site-packages (from sqlalchemy<3,>=1.4.0->mlflow) (3.2.4)\n",
            "Requirement already satisfied: pycparser in c:\\users\\nadee\\desktop\\pract_mlops\\venv\\lib\\site-packages (from cffi>=1.14->cryptography<46,>=43.0.0->mlflow) (2.23)\n",
            "Requirement already satisfied: colorama in c:\\users\\nadee\\desktop\\pract_mlops\\venv\\lib\\site-packages (from click<9,>=7.0->mlflow-skinny==3.4.0->mlflow) (0.4.6)\n",
            "Requirement already satisfied: attrs>=23.1.0 in c:\\users\\nadee\\desktop\\pract_mlops\\venv\\lib\\site-packages (from cyclopts>=3.0.0->fastmcp<3,>=2.0.0->mlflow) (25.3.0)\n",
            "Requirement already satisfied: docstring-parser>=0.15 in c:\\users\\nadee\\desktop\\pract_mlops\\venv\\lib\\site-packages (from cyclopts>=3.0.0->fastmcp<3,>=2.0.0->mlflow) (0.17.0)\n",
            "Requirement already satisfied: rich-rst<2.0.0,>=1.3.1 in c:\\users\\nadee\\desktop\\pract_mlops\\venv\\lib\\site-packages (from cyclopts>=3.0.0->fastmcp<3,>=2.0.0->mlflow) (1.3.1)\n",
            "Requirement already satisfied: google-auth~=2.0 in c:\\users\\nadee\\desktop\\pract_mlops\\venv\\lib\\site-packages (from databricks-sdk<1,>=0.20.0->mlflow-skinny==3.4.0->mlflow) (2.40.3)\n",
            "Requirement already satisfied: starlette<0.49.0,>=0.40.0 in c:\\users\\nadee\\desktop\\pract_mlops\\venv\\lib\\site-packages (from fastapi<1->mlflow-skinny==3.4.0->mlflow) (0.48.0)\n",
            "Requirement already satisfied: gitdb<5,>=4.0.1 in c:\\users\\nadee\\desktop\\pract_mlops\\venv\\lib\\site-packages (from gitpython<4,>=3.1.9->mlflow-skinny==3.4.0->mlflow) (4.0.12)\n",
            "Requirement already satisfied: anyio in c:\\users\\nadee\\desktop\\pract_mlops\\venv\\lib\\site-packages (from httpx>=0.28.1->fastmcp<3,>=2.0.0->mlflow) (4.11.0)\n",
            "Requirement already satisfied: certifi in c:\\users\\nadee\\desktop\\pract_mlops\\venv\\lib\\site-packages (from httpx>=0.28.1->fastmcp<3,>=2.0.0->mlflow) (2025.8.3)\n",
            "Requirement already satisfied: httpcore==1.* in c:\\users\\nadee\\desktop\\pract_mlops\\venv\\lib\\site-packages (from httpx>=0.28.1->fastmcp<3,>=2.0.0->mlflow) (1.0.9)\n",
            "Requirement already satisfied: idna in c:\\users\\nadee\\desktop\\pract_mlops\\venv\\lib\\site-packages (from httpx>=0.28.1->fastmcp<3,>=2.0.0->mlflow) (3.10)\n",
            "Requirement already satisfied: h11>=0.16 in c:\\users\\nadee\\desktop\\pract_mlops\\venv\\lib\\site-packages (from httpcore==1.*->httpx>=0.28.1->fastmcp<3,>=2.0.0->mlflow) (0.16.0)\n",
            "Requirement already satisfied: zipp>=3.20 in c:\\users\\nadee\\desktop\\pract_mlops\\venv\\lib\\site-packages (from importlib_metadata!=4.7.0,<9,>=3.7.0->mlflow-skinny==3.4.0->mlflow) (3.23.0)\n",
            "Requirement already satisfied: httpx-sse>=0.4 in c:\\users\\nadee\\desktop\\pract_mlops\\venv\\lib\\site-packages (from mcp<2.0.0,>=1.12.4->fastmcp<3,>=2.0.0->mlflow) (0.4.1)\n",
            "Requirement already satisfied: jsonschema>=4.20.0 in c:\\users\\nadee\\desktop\\pract_mlops\\venv\\lib\\site-packages (from mcp<2.0.0,>=1.12.4->fastmcp<3,>=2.0.0->mlflow) (4.25.1)\n",
            "Requirement already satisfied: pydantic-settings>=2.5.2 in c:\\users\\nadee\\desktop\\pract_mlops\\venv\\lib\\site-packages (from mcp<2.0.0,>=1.12.4->fastmcp<3,>=2.0.0->mlflow) (2.11.0)\n",
            "Requirement already satisfied: python-multipart>=0.0.9 in c:\\users\\nadee\\desktop\\pract_mlops\\venv\\lib\\site-packages (from mcp<2.0.0,>=1.12.4->fastmcp<3,>=2.0.0->mlflow) (0.0.20)\n",
            "Requirement already satisfied: sse-starlette>=1.6.1 in c:\\users\\nadee\\desktop\\pract_mlops\\venv\\lib\\site-packages (from mcp<2.0.0,>=1.12.4->fastmcp<3,>=2.0.0->mlflow) (3.0.2)\n",
            "Requirement already satisfied: isodate in c:\\users\\nadee\\desktop\\pract_mlops\\venv\\lib\\site-packages (from openapi-core>=0.19.5->fastmcp<3,>=2.0.0->mlflow) (0.7.2)\n",
            "Requirement already satisfied: jsonschema-path<0.4.0,>=0.3.1 in c:\\users\\nadee\\desktop\\pract_mlops\\venv\\lib\\site-packages (from openapi-core>=0.19.5->fastmcp<3,>=2.0.0->mlflow) (0.3.4)\n",
            "Requirement already satisfied: more-itertools in c:\\users\\nadee\\desktop\\pract_mlops\\venv\\lib\\site-packages (from openapi-core>=0.19.5->fastmcp<3,>=2.0.0->mlflow) (10.8.0)\n",
            "Requirement already satisfied: openapi-schema-validator<0.7.0,>=0.6.0 in c:\\users\\nadee\\desktop\\pract_mlops\\venv\\lib\\site-packages (from openapi-core>=0.19.5->fastmcp<3,>=2.0.0->mlflow) (0.6.3)\n",
            "Requirement already satisfied: openapi-spec-validator<0.8.0,>=0.7.1 in c:\\users\\nadee\\desktop\\pract_mlops\\venv\\lib\\site-packages (from openapi-core>=0.19.5->fastmcp<3,>=2.0.0->mlflow) (0.7.2)\n",
            "Requirement already satisfied: parse in c:\\users\\nadee\\desktop\\pract_mlops\\venv\\lib\\site-packages (from openapi-core>=0.19.5->fastmcp<3,>=2.0.0->mlflow) (1.20.2)\n",
            "Requirement already satisfied: opentelemetry-semantic-conventions==0.58b0 in c:\\users\\nadee\\desktop\\pract_mlops\\venv\\lib\\site-packages (from opentelemetry-sdk<3,>=1.9.0->mlflow-skinny==3.4.0->mlflow) (0.58b0)\n",
            "Requirement already satisfied: annotated-types>=0.6.0 in c:\\users\\nadee\\desktop\\pract_mlops\\venv\\lib\\site-packages (from pydantic<3,>=1.10.8->mlflow-skinny==3.4.0->mlflow) (0.7.0)\n",
            "Requirement already satisfied: pydantic-core==2.33.2 in c:\\users\\nadee\\desktop\\pract_mlops\\venv\\lib\\site-packages (from pydantic<3,>=1.10.8->mlflow-skinny==3.4.0->mlflow) (2.33.2)\n",
            "Requirement already satisfied: typing-inspection>=0.4.0 in c:\\users\\nadee\\desktop\\pract_mlops\\venv\\lib\\site-packages (from pydantic<3,>=1.10.8->mlflow-skinny==3.4.0->mlflow) (0.4.1)\n",
            "Requirement already satisfied: email-validator>=2.0.0 in c:\\users\\nadee\\desktop\\pract_mlops\\venv\\lib\\site-packages (from pydantic[email]>=2.11.7->fastmcp<3,>=2.0.0->mlflow) (2.3.0)\n",
            "Requirement already satisfied: six>=1.5 in c:\\users\\nadee\\desktop\\pract_mlops\\venv\\lib\\site-packages (from python-dateutil<3,>=2.7.0->graphene<4->mlflow) (1.17.0)\n",
            "Requirement already satisfied: charset_normalizer<4,>=2 in c:\\users\\nadee\\desktop\\pract_mlops\\venv\\lib\\site-packages (from requests<3,>=2.17.3->mlflow-skinny==3.4.0->mlflow) (3.4.3)\n",
            "Requirement already satisfied: markdown-it-py>=2.2.0 in c:\\users\\nadee\\desktop\\pract_mlops\\venv\\lib\\site-packages (from rich>=13.9.4->fastmcp<3,>=2.0.0->mlflow) (4.0.0)\n",
            "Requirement already satisfied: pygments<3.0.0,>=2.13.0 in c:\\users\\nadee\\desktop\\pract_mlops\\venv\\lib\\site-packages (from rich>=13.9.4->fastmcp<3,>=2.0.0->mlflow) (2.19.2)\n",
            "Requirement already satisfied: sniffio>=1.1 in c:\\users\\nadee\\desktop\\pract_mlops\\venv\\lib\\site-packages (from anyio->httpx>=0.28.1->fastmcp<3,>=2.0.0->mlflow) (1.3.1)\n",
            "Requirement already satisfied: dnspython>=2.0.0 in c:\\users\\nadee\\desktop\\pract_mlops\\venv\\lib\\site-packages (from email-validator>=2.0.0->pydantic[email]>=2.11.7->fastmcp<3,>=2.0.0->mlflow) (2.8.0)\n",
            "Requirement already satisfied: smmap<6,>=3.0.1 in c:\\users\\nadee\\desktop\\pract_mlops\\venv\\lib\\site-packages (from gitdb<5,>=4.0.1->gitpython<4,>=3.1.9->mlflow-skinny==3.4.0->mlflow) (5.0.2)\n",
            "Requirement already satisfied: pyasn1-modules>=0.2.1 in c:\\users\\nadee\\desktop\\pract_mlops\\venv\\lib\\site-packages (from google-auth~=2.0->databricks-sdk<1,>=0.20.0->mlflow-skinny==3.4.0->mlflow) (0.4.2)\n",
            "Requirement already satisfied: rsa<5,>=3.1.4 in c:\\users\\nadee\\desktop\\pract_mlops\\venv\\lib\\site-packages (from google-auth~=2.0->databricks-sdk<1,>=0.20.0->mlflow-skinny==3.4.0->mlflow) (4.9.1)\n",
            "Requirement already satisfied: jsonschema-specifications>=2023.03.6 in c:\\users\\nadee\\desktop\\pract_mlops\\venv\\lib\\site-packages (from jsonschema>=4.20.0->mcp<2.0.0,>=1.12.4->fastmcp<3,>=2.0.0->mlflow) (2025.9.1)\n",
            "Requirement already satisfied: referencing>=0.28.4 in c:\\users\\nadee\\desktop\\pract_mlops\\venv\\lib\\site-packages (from jsonschema>=4.20.0->mcp<2.0.0,>=1.12.4->fastmcp<3,>=2.0.0->mlflow) (0.36.2)\n",
            "Requirement already satisfied: rpds-py>=0.7.1 in c:\\users\\nadee\\desktop\\pract_mlops\\venv\\lib\\site-packages (from jsonschema>=4.20.0->mcp<2.0.0,>=1.12.4->fastmcp<3,>=2.0.0->mlflow) (0.27.1)\n",
            "Requirement already satisfied: pathable<0.5.0,>=0.4.1 in c:\\users\\nadee\\desktop\\pract_mlops\\venv\\lib\\site-packages (from jsonschema-path<0.4.0,>=0.3.1->openapi-core>=0.19.5->fastmcp<3,>=2.0.0->mlflow) (0.4.4)\n",
            "Requirement already satisfied: mdurl~=0.1 in c:\\users\\nadee\\desktop\\pract_mlops\\venv\\lib\\site-packages (from markdown-it-py>=2.2.0->rich>=13.9.4->fastmcp<3,>=2.0.0->mlflow) (0.1.2)\n",
            "Requirement already satisfied: rfc3339-validator in c:\\users\\nadee\\desktop\\pract_mlops\\venv\\lib\\site-packages (from openapi-schema-validator<0.7.0,>=0.6.0->openapi-core>=0.19.5->fastmcp<3,>=2.0.0->mlflow) (0.1.4)\n",
            "Requirement already satisfied: lazy-object-proxy<2.0.0,>=1.7.1 in c:\\users\\nadee\\desktop\\pract_mlops\\venv\\lib\\site-packages (from openapi-spec-validator<0.8.0,>=0.7.1->openapi-core>=0.19.5->fastmcp<3,>=2.0.0->mlflow) (1.12.0)\n",
            "Requirement already satisfied: docutils in c:\\users\\nadee\\desktop\\pract_mlops\\venv\\lib\\site-packages (from rich-rst<2.0.0,>=1.3.1->cyclopts>=3.0.0->fastmcp<3,>=2.0.0->mlflow) (0.22.2)\n",
            "Requirement already satisfied: pyasn1<0.7.0,>=0.6.1 in c:\\users\\nadee\\desktop\\pract_mlops\\venv\\lib\\site-packages (from pyasn1-modules>=0.2.1->google-auth~=2.0->databricks-sdk<1,>=0.20.0->mlflow-skinny==3.4.0->mlflow) (0.6.1)\n"
          ]
        }
      ],
      "source": [
        "!pip install mlflow\n",
        "import mlflow\n",
        "import mlflow.sklearn\n",
        "import mlflow.xgboost"
      ]
    },
    {
      "cell_type": "code",
      "execution_count": 9,
      "id": "9ad9cf4d",
      "metadata": {
        "colab": {
          "base_uri": "https://localhost:8080/"
        },
        "id": "9ad9cf4d",
        "outputId": "0b29cac7-1274-418c-ba33-7b02e1f79243",
        "scrolled": false
      },
      "outputs": [
        {
          "name": "stderr",
          "output_type": "stream",
          "text": [
            "2025/10/03 14:14:30 INFO mlflow.tracking.fluent: Experiment with name 'Anomaly Detection' does not exist. Creating a new experiment.\n",
            "2025/10/03 14:14:31 WARNING mlflow.models.model: `artifact_path` is deprecated. Please use `name` instead.\n",
            "2025/10/03 14:14:42 WARNING mlflow.models.model: Model logged without a signature and input example. Please set `input_example` parameter when logging the model to auto infer the model signature.\n",
            "2025/10/03 14:14:42 WARNING mlflow.models.model: `artifact_path` is deprecated. Please use `name` instead.\n",
            "2025/10/03 14:14:50 WARNING mlflow.models.model: Model logged without a signature and input example. Please set `input_example` parameter when logging the model to auto infer the model signature.\n",
            "2025/10/03 14:14:50 WARNING mlflow.models.model: `artifact_path` is deprecated. Please use `name` instead.\n",
            "2025/10/03 14:15:00 WARNING mlflow.models.model: Model logged without a signature and input example. Please set `input_example` parameter when logging the model to auto infer the model signature.\n",
            "2025/10/03 14:15:00 WARNING mlflow.models.model: `artifact_path` is deprecated. Please use `name` instead.\n",
            "2025/10/03 14:15:09 WARNING mlflow.models.model: Model logged without a signature and input example. Please set `input_example` parameter when logging the model to auto infer the model signature.\n"
          ]
        }
      ],
      "source": [
        "# Initialize MLflow\n",
        "mlflow.set_experiment(\"Anomaly Detection\")\n",
        "# mlflow.set_tracking_uri(\"http://localhost:5000\")\n",
        "\n",
        "for i, element in enumerate(models):\n",
        "    model_name = element[0]\n",
        "    params = element[1]\n",
        "    model = element[2]\n",
        "    report = reports[i]\n",
        "\n",
        "    with mlflow.start_run(run_name=model_name):\n",
        "        mlflow.log_params(params)\n",
        "        mlflow.log_metrics({\n",
        "            'accuracy': report['accuracy'],\n",
        "            'recall_class_1': report['1']['recall'],\n",
        "            'recall_class_0': report['0']['recall'],\n",
        "            'f1_score_macro': report['macro avg']['f1-score']\n",
        "        })\n",
        "\n",
        "        if \"XGB\" in model_name:\n",
        "            mlflow.xgboost.log_model(model, \"model\")\n",
        "        else:\n",
        "            mlflow.sklearn.log_model(model, \"model\")\n",
        "\n",
        "        # if \"XGB\" in model_name:\n",
        "        #     model_uri = f\"runs:/{run_id}/model\"\n",
        "        #     mlflow.register_model(model_uri=model_uri, name=model_name)\n",
        "\n",
        "        #     print(f\"Model {model_name} registered with run_id: {run_id}\")"
      ]
    },
    {
      "cell_type": "markdown",
      "id": "7446ae8a",
      "metadata": {
        "id": "7446ae8a"
      },
      "source": [
        "### Register the Model"
      ]
    },
    {
      "cell_type": "code",
      "execution_count": 10,
      "id": "LKoD4AUp1Wtm",
      "metadata": {
        "id": "LKoD4AUp1Wtm"
      },
      "outputs": [],
      "source": [
        "# model_uri = f\"runs:/{run_id}/model\"\n",
        "# mlflow.register_model(model_uri=model_uri, name=model_name)\n",
        "# print(f\"Model {model_name} registered with run_id: {run_id}\")"
      ]
    },
    {
      "cell_type": "code",
      "execution_count": 11,
      "id": "jSrprKOJ4oo1",
      "metadata": {
        "colab": {
          "base_uri": "https://localhost:8080/"
        },
        "id": "jSrprKOJ4oo1",
        "outputId": "ed8e7e59-eeb2-4467-bd7f-e366d11a7ecd"
      },
      "outputs": [
        {
          "name": "stderr",
          "output_type": "stream",
          "text": [
            "2025/10/03 14:15:09 WARNING mlflow.models.model: `artifact_path` is deprecated. Please use `name` instead.\n",
            "2025/10/03 14:15:17 WARNING mlflow.models.model: Model logged without a signature and input example. Please set `input_example` parameter when logging the model to auto infer the model signature.\n",
            "Successfully registered model 'Logistic Regression'.\n",
            "2025/10/03 14:15:17 WARNING mlflow.tracking._model_registry.fluent: Run with id 591c9b4648164804b7913ddec5d952b7 has no artifacts at artifact path 'model', registering model based on models:/m-1f870a788ed849d1ae6bdba95c0bcb34 instead\n",
            "Created version '1' of model 'Logistic Regression'.\n",
            "2025/10/03 14:15:17 WARNING mlflow.models.model: `artifact_path` is deprecated. Please use `name` instead.\n"
          ]
        },
        {
          "name": "stdout",
          "output_type": "stream",
          "text": [
            "✅ Model Logistic Regression registered successfully with run_id: 591c9b4648164804b7913ddec5d952b7\n"
          ]
        },
        {
          "name": "stderr",
          "output_type": "stream",
          "text": [
            "2025/10/03 14:15:25 WARNING mlflow.models.model: Model logged without a signature and input example. Please set `input_example` parameter when logging the model to auto infer the model signature.\n",
            "Successfully registered model 'Random Forest'.\n",
            "2025/10/03 14:15:25 WARNING mlflow.tracking._model_registry.fluent: Run with id 96997818d8674740b16c58472b20b7d3 has no artifacts at artifact path 'model', registering model based on models:/m-551ec25ec8dd4bd2b9743c938587d361 instead\n",
            "Created version '1' of model 'Random Forest'.\n",
            "2025/10/03 14:15:25 WARNING mlflow.models.model: `artifact_path` is deprecated. Please use `name` instead.\n"
          ]
        },
        {
          "name": "stdout",
          "output_type": "stream",
          "text": [
            "✅ Model Random Forest registered successfully with run_id: 96997818d8674740b16c58472b20b7d3\n"
          ]
        },
        {
          "name": "stderr",
          "output_type": "stream",
          "text": [
            "2025/10/03 14:15:37 WARNING mlflow.models.model: Model logged without a signature and input example. Please set `input_example` parameter when logging the model to auto infer the model signature.\n",
            "Successfully registered model 'XGBClassifier'.\n",
            "2025/10/03 14:15:37 WARNING mlflow.tracking._model_registry.fluent: Run with id c46b1b2f95d84cadbc50383bbfb22ea3 has no artifacts at artifact path 'model', registering model based on models:/m-0f8a5e4bdc04404bafdfe3c9032e1b76 instead\n",
            "Created version '1' of model 'XGBClassifier'.\n",
            "2025/10/03 14:15:37 WARNING mlflow.models.model: `artifact_path` is deprecated. Please use `name` instead.\n"
          ]
        },
        {
          "name": "stdout",
          "output_type": "stream",
          "text": [
            "✅ Model XGBClassifier registered successfully with run_id: c46b1b2f95d84cadbc50383bbfb22ea3\n"
          ]
        },
        {
          "name": "stderr",
          "output_type": "stream",
          "text": [
            "2025/10/03 14:15:48 WARNING mlflow.models.model: Model logged without a signature and input example. Please set `input_example` parameter when logging the model to auto infer the model signature.\n",
            "Successfully registered model 'XGBClassifier With SMOTE'.\n",
            "2025/10/03 14:15:48 WARNING mlflow.tracking._model_registry.fluent: Run with id 15c4738795784988a7c049a467e551dc has no artifacts at artifact path 'model', registering model based on models:/m-9deeec4b51d94fcd9d2f0c5547575871 instead\n",
            "Created version '1' of model 'XGBClassifier With SMOTE'.\n"
          ]
        },
        {
          "name": "stdout",
          "output_type": "stream",
          "text": [
            "✅ Model XGBClassifier With SMOTE registered successfully with run_id: 15c4738795784988a7c049a467e551dc\n"
          ]
        }
      ],
      "source": [
        "import mlflow\n",
        "\n",
        "mlflow.set_experiment(\"Anomaly Detection\")\n",
        "# Optional: set your tracking URI if remote\n",
        "# mlflow.set_tracking_uri(\"http://localhost:5000\")\n",
        "\n",
        "for i, element in enumerate(models):\n",
        "    model_name = element[0]\n",
        "    params = element[1]\n",
        "    model = element[2]\n",
        "    report = reports[i]\n",
        "\n",
        "    with mlflow.start_run(run_name=model_name) as run:\n",
        "        run_id = run.info.run_id\n",
        "\n",
        "        # Log parameters and metrics\n",
        "        mlflow.log_params(params)\n",
        "        mlflow.log_metrics({\n",
        "            'accuracy': report['accuracy'],\n",
        "            'recall_class_1': report['1']['recall'],\n",
        "            'recall_class_0': report['0']['recall'],\n",
        "            'f1_score_macro': report['macro avg']['f1-score']\n",
        "        })\n",
        "\n",
        "        # Log model\n",
        "        if \"XGB\" in model_name:\n",
        "            mlflow.xgboost.log_model(model, \"model\")\n",
        "        else:\n",
        "            mlflow.sklearn.log_model(model, \"model\")\n",
        "\n",
        "        # ✅ Register the model (inside the active run)\n",
        "        model_uri = f\"runs:/{run_id}/model\"\n",
        "        mlflow.register_model(model_uri=model_uri, name=model_name)\n",
        "\n",
        "        print(f\"✅ Model {model_name} registered successfully with run_id: {run_id}\")\n"
      ]
    },
    {
      "cell_type": "code",
      "execution_count": 12,
      "id": "k7pCKUhy5p2_",
      "metadata": {
        "colab": {
          "base_uri": "https://localhost:8080/"
        },
        "id": "k7pCKUhy5p2_",
        "outputId": "e2cc8a66-46b1-41e4-a368-c5673e726b52"
      },
      "outputs": [
        {
          "name": "stderr",
          "output_type": "stream",
          "text": [
            "Successfully registered model 'XGB-Smote'."
          ]
        },
        {
          "name": "stderr",
          "output_type": "stream",
          "text": [
            "\n",
            "2025/10/03 14:15:48 WARNING mlflow.tracking._model_registry.fluent: Run with id 15c4738795784988a7c049a467e551dc has no artifacts at artifact path 'model', registering model based on models:/m-9deeec4b51d94fcd9d2f0c5547575871 instead\n",
            "Created version '1' of model 'XGB-Smote'.\n"
          ]
        },
        {
          "data": {
            "text/plain": [
              "<ModelVersion: aliases=[], creation_timestamp=1759481148848, current_stage='None', deployment_job_state=None, description=None, last_updated_timestamp=1759481148848, metrics=[<Metric: dataset_digest=None, dataset_name=None, key='accuracy', model_id='m-9deeec4b51d94fcd9d2f0c5547575871', run_id='15c4738795784988a7c049a467e551dc', step=0, timestamp=1759481137956, value=0.9633333333333334>,\n",
              " <Metric: dataset_digest=None, dataset_name=None, key='f1_score_macro', model_id='m-9deeec4b51d94fcd9d2f0c5547575871', run_id='15c4738795784988a7c049a467e551dc', step=0, timestamp=1759481137956, value=0.8996319839411174>,\n",
              " <Metric: dataset_digest=None, dataset_name=None, key='recall_class_0', model_id='m-9deeec4b51d94fcd9d2f0c5547575871', run_id='15c4738795784988a7c049a467e551dc', step=0, timestamp=1759481137956, value=0.9777777777777777>,\n",
              " <Metric: dataset_digest=None, dataset_name=None, key='recall_class_1', model_id='m-9deeec4b51d94fcd9d2f0c5547575871', run_id='15c4738795784988a7c049a467e551dc', step=0, timestamp=1759481137956, value=0.8333333333333334>], model_id='m-9deeec4b51d94fcd9d2f0c5547575871', name='XGB-Smote', params={'eval_metric': 'logloss', 'use_label_encoder': 'False'}, run_id='15c4738795784988a7c049a467e551dc', run_link=None, source='models:/m-9deeec4b51d94fcd9d2f0c5547575871', status='READY', status_message=None, tags={}, user_id=None, version=1>"
            ]
          },
          "execution_count": 12,
          "metadata": {},
          "output_type": "execute_result"
        }
      ],
      "source": [
        "mlflow.register_model(model_uri=f\"runs:/{run_id}/model\", name=\"XGB-Smote\")\n"
      ]
    },
    {
      "cell_type": "markdown",
      "id": "1b074a08",
      "metadata": {
        "id": "1b074a08"
      },
      "source": [
        "### Load the Model"
      ]
    },
    {
      "cell_type": "code",
      "execution_count": 13,
      "id": "zS187ynQ7MAv",
      "metadata": {
        "colab": {
          "base_uri": "https://localhost:8080/"
        },
        "id": "zS187ynQ7MAv",
        "outputId": "69c7e007-d61f-413b-83ed-398e9bd029ed"
      },
      "outputs": [
        {
          "name": "stdout",
          "output_type": "stream",
          "text": [
            "[0 0 0 0 0 0 0 0 0 0 1 0 0 1 0 0 0 0 0 0 1 0 0 0 0 0 0 0 0 0 0 0 1 0 0 0 0\n",
            " 0 0 0 0 0 0 0 0 0 0 0 0 1 0 0 0 0 1 0 0 0 0 0 0 0 0 0 0 0 0 0 0 0 0 1 0 0\n",
            " 0 0 0 0 1 0 0 0 0 0 0 1 0 0 0 0 0 1 0 1 1 0 1 0 0 0 0 0 0 0 0 0 0 0 0 0 0\n",
            " 0 1 0 0 0 0 0 0 0 0 0 0 0 0 0 0 0 1 0 0 0 0 1 1 0 0 0 0 0 1 0 0 0 0 0 1 0\n",
            " 0 0 0 0 0 0 0 0 0 0 0 0 0 0 0 0 0 0 0 0 0 0 0 0 1 0 0 0 0 0 0 1 0 0 0 0 0\n",
            " 0 0 0 0 0 0 0 0 0 0 0 0 0 0 0 0 0 0 0 0 0 0 0 0 0 0 0 0 0 1 0 0 0 0 0 0 0\n",
            " 0 0 0 0 0 0 0 0 0 0 0 0 0 0 0 0 0 0 0 0 0 0 0 1 0 0 0 0 0 0 0 0 0 0 0 0 0\n",
            " 0 0 0 0 0 0 1 1 0 0 0 0 0 1 0 0 0 0 0 0 0 0 0 0 1 0 0 0 0 0 0 0 0 1 1 0 1\n",
            " 1 0 0 0]\n"
          ]
        }
      ],
      "source": [
        "import mlflow.xgboost\n",
        "\n",
        "model_name = \"XGB-Smote\"\n",
        "model_version = 1\n",
        "model_uri = f\"models:/{model_name}/{model_version}\"\n",
        "\n",
        "loaded_model = mlflow.xgboost.load_model(model_uri)\n",
        "\n",
        "# Predict\n",
        "y_pred = loaded_model.predict(X_test)\n",
        "print(y_pred[:])\n"
      ]
    },
    {
      "cell_type": "code",
      "execution_count": 14,
      "id": "a40fef12",
      "metadata": {
        "colab": {
          "base_uri": "https://localhost:8080/"
        },
        "id": "a40fef12",
        "outputId": "f2e1fd64-d1dc-4cf2-c59c-f4654cc15664",
        "scrolled": true
      },
      "outputs": [
        {
          "data": {
            "text/plain": [
              "array([0, 0, 0, 0])"
            ]
          },
          "execution_count": 14,
          "metadata": {},
          "output_type": "execute_result"
        }
      ],
      "source": [
        "model_version = 1\n",
        "model_uri = f\"models:/{model_name}/{model_version}\"\n",
        "\n",
        "loaded_model = mlflow.xgboost.load_model(model_uri)\n",
        "y_pred = loaded_model.predict(X_test)\n",
        "y_pred[:4]"
      ]
    },
    {
      "cell_type": "markdown",
      "id": "5f8d2893",
      "metadata": {
        "id": "5f8d2893"
      },
      "source": [
        "### Transition the Model to Production"
      ]
    },
    {
      "cell_type": "code",
      "execution_count": 15,
      "id": "B9sRU3rs8P87",
      "metadata": {
        "colab": {
          "base_uri": "https://localhost:8080/"
        },
        "id": "B9sRU3rs8P87",
        "outputId": "2b657a69-afbd-4e3c-be9a-6ddac1c98a82"
      },
      "outputs": [
        {
          "name": "stderr",
          "output_type": "stream",
          "text": [
            "Registered model 'anomaly-detection-prod' already exists. Creating a new version of this model...\n",
            "Copied version '1' of model 'XGB-Smote' to version '1' of model 'anomaly-detection-prod'.\n"
          ]
        },
        {
          "data": {
            "text/plain": [
              "<ModelVersion: aliases=[], creation_timestamp=1759481149176, current_stage='None', deployment_job_state=None, description=None, last_updated_timestamp=1759481149176, metrics=[<Metric: dataset_digest=None, dataset_name=None, key='accuracy', model_id='m-9deeec4b51d94fcd9d2f0c5547575871', run_id='15c4738795784988a7c049a467e551dc', step=0, timestamp=1759481137956, value=0.9633333333333334>,\n",
              " <Metric: dataset_digest=None, dataset_name=None, key='f1_score_macro', model_id='m-9deeec4b51d94fcd9d2f0c5547575871', run_id='15c4738795784988a7c049a467e551dc', step=0, timestamp=1759481137956, value=0.8996319839411174>,\n",
              " <Metric: dataset_digest=None, dataset_name=None, key='recall_class_0', model_id='m-9deeec4b51d94fcd9d2f0c5547575871', run_id='15c4738795784988a7c049a467e551dc', step=0, timestamp=1759481137956, value=0.9777777777777777>,\n",
              " <Metric: dataset_digest=None, dataset_name=None, key='recall_class_1', model_id='m-9deeec4b51d94fcd9d2f0c5547575871', run_id='15c4738795784988a7c049a467e551dc', step=0, timestamp=1759481137956, value=0.8333333333333334>], model_id='m-9deeec4b51d94fcd9d2f0c5547575871', name='anomaly-detection-prod', params={'eval_metric': 'logloss', 'use_label_encoder': 'False'}, run_id='15c4738795784988a7c049a467e551dc', run_link=None, source='models:/XGB-Smote/1', status='READY', status_message=None, tags={}, user_id=None, version=1>"
            ]
          },
          "execution_count": 15,
          "metadata": {},
          "output_type": "execute_result"
        }
      ],
      "source": [
        "from mlflow.tracking import MlflowClient\n",
        "\n",
        "model_name = \"XGB-Smote\"\n",
        "production_model_name = \"anomaly-detection-prod\"\n",
        "source_version = 1\n",
        "\n",
        "client = MlflowClient()\n",
        "\n",
        "# (Optional) set alias for clarity\n",
        "client.set_registered_model_alias(model_name, \"challenger\", version=source_version)\n",
        "\n",
        "# Make sure destination exists\n",
        "try:\n",
        "    client.create_registered_model(production_model_name)\n",
        "except Exception:\n",
        "    pass  # Already exists\n",
        "\n",
        "# Copy the version\n",
        "client.copy_model_version(\n",
        "    src_model_uri=f\"models:/{model_name}@challenger\",\n",
        "    dst_name=production_model_name\n",
        ")\n"
      ]
    },
    {
      "cell_type": "code",
      "execution_count": 16,
      "id": "EvZwnGwljNWM",
      "metadata": {
        "colab": {
          "base_uri": "https://localhost:8080/"
        },
        "id": "EvZwnGwljNWM",
        "outputId": "c05633f5-6413-4795-8b42-745c457f26a7"
      },
      "outputs": [
        {
          "name": "stderr",
          "output_type": "stream",
          "text": [
            "Registered model 'anomaly-detection-prod' already exists. Creating a new version of this model...\n"
          ]
        },
        {
          "name": "stdout",
          "output_type": "stream",
          "text": [
            "[0 0 0 0]\n"
          ]
        },
        {
          "name": "stderr",
          "output_type": "stream",
          "text": [
            "Copied version '1' of model 'XGB-Smote' to version '2' of model 'anomaly-detection-prod'.\n"
          ]
        }
      ],
      "source": [
        "import mlflow\n",
        "from mlflow.tracking import MlflowClient\n",
        "\n",
        "\n",
        "model_name = \"XGB-Smote\"                # Source model\n",
        "production_model_name = \"anomaly-detection-prod\"  # Destination registry\n",
        "source_version = 1\n",
        "\n",
        "client = MlflowClient()\n",
        "\n",
        "# Set alias \"challenger\" on source model\n",
        "client.set_registered_model_alias(model_name, \"challenger\", version=source_version)\n",
        "\n",
        "# Make sure destination model registry exists\n",
        "try:\n",
        "    client.create_registered_model(production_model_name)\n",
        "except Exception:\n",
        "    pass  # Already exists\n",
        "\n",
        "# Copy challenger into production registry\n",
        "dst_model_version = client.copy_model_version(\n",
        "    src_model_uri=f\"models:/{model_name}@challenger\",\n",
        "    dst_name=production_model_name\n",
        ")\n",
        "\n",
        "# Set alias \"champion\" on the copied version\n",
        "client.set_registered_model_alias(\n",
        "    production_model_name,\n",
        "    \"champion\",\n",
        "    version=dst_model_version.version\n",
        ")\n",
        "\n",
        "#Load champion model & predict\n",
        "prod_model_uri = f\"models:/{production_model_name}@champion\"\n",
        "loaded_model = mlflow.xgboost.load_model(prod_model_uri)\n",
        "\n",
        "y_pred = loaded_model.predict(X_test)\n",
        "print(y_pred[:4])"
      ]
    },
    {
      "cell_type": "code",
      "execution_count": 17,
      "id": "rsRXRf5suoSn",
      "metadata": {
        "colab": {
          "base_uri": "https://localhost:8080/",
          "height": 66,
          "referenced_widgets": [
            "a69f8588e1f84b6dad469ff277dd9397",
            "6c2bd15087594a72a655573174f211c6",
            "778058dda7d54d30be18f9257c7dfff6",
            "b74ebbe6b0d6427698c6606485147e05",
            "80aba6b93e5a44f6bc3e3bf9dba04c38",
            "0b168182731d4ffb9eb353ed38f888f5",
            "9c4884b00481468c92200bcae2fbb366",
            "2c264d1fd17747b2bfc044dee0e7c79e",
            "57d4ce004ae54ab5b47e901aac2f9b85",
            "9e9b13e039f14e3396900bc7c19ed4c6",
            "98fdd819eae54e199559ef067fc05697"
          ]
        },
        "id": "rsRXRf5suoSn",
        "outputId": "cbbe26da-d2d2-4f69-fa97-7ed692e24296"
      },
      "outputs": [
        {
          "name": "stdout",
          "output_type": "stream",
          "text": [
            "Model exported to: c:\\Users\\nadee\\Desktop\\pract_mlops\\exported_model\\\n"
          ]
        }
      ],
      "source": [
        "import mlflow\n",
        "\n",
        "# Download the model from MLflow Model Registry\n",
        "export_path = mlflow.artifacts.download_artifacts(\n",
        "    artifact_uri=\"models:/anomaly-detection-prod@champion\",\n",
        "    dst_path=\"exported_model\"\n",
        ")\n",
        "\n",
        "print(\"Model exported to:\", export_path)\n",
        "\n"
      ]
    },
    {
      "cell_type": "markdown",
      "id": "auiEVspIj1zt",
      "metadata": {
        "id": "auiEVspIj1zt"
      },
      "source": [
        "Create a Serving Script (FastAPI or Flask)"
      ]
    },
    {
      "cell_type": "code",
      "execution_count": 18,
      "id": "3fF_hU8Yunbm",
      "metadata": {
        "id": "3fF_hU8Yunbm"
      },
      "outputs": [],
      "source": [
        "from fastapi import FastAPI\n",
        "import mlflow.pyfunc\n",
        "\n",
        "app = FastAPI()\n",
        "\n",
        "# Load exported model\n",
        "model = mlflow.pyfunc.load_model(\"exported_model\")\n",
        "\n",
        "@app.get(\"/\")\n",
        "def root():\n",
        "    return {\"message\": \"MLflow model is live inside Docker!\"}\n",
        "\n",
        "@app.post(\"/predict\")\n",
        "def predict(data: dict):\n",
        "    X = [list(data.values())]\n",
        "    y_pred = model.predict(X)\n",
        "    return {\"prediction\": y_pred.tolist()}\n"
      ]
    },
    {
      "cell_type": "code",
      "execution_count": 19,
      "id": "xwBbLmeSj6JZ",
      "metadata": {
        "colab": {
          "base_uri": "https://localhost:8080/"
        },
        "id": "xwBbLmeSj6JZ",
        "outputId": "9c4c3cce-12f4-479a-d5ee-aa3fe9480dc1"
      },
      "outputs": [
        {
          "name": "stdout",
          "output_type": "stream",
          "text": [
            "Writing serve.py\n"
          ]
        }
      ],
      "source": [
        "%%writefile serve.py\n",
        "from fastapi import FastAPI\n",
        "import mlflow\n",
        "import pandas as pd\n",
        "import os\n",
        "\n",
        "app = FastAPI()\n",
        "\n",
        "# Load model from local mlruns folder (inside Docker)\n",
        "model_uri = os.path.join(os.getcwd(), \"mlruns/826412763467474429/models/m-411b9a0aa94b4250bae33fa668a52601/artifacts\")\n",
        "model = mlflow.pyfunc.load_model(model_uri)\n",
        "\n",
        "@app.get(\"/\")\n",
        "def home():\n",
        "    return {\"message\": \"MLflow model is live inside Docker!\"}\n",
        "\n",
        "@app.post(\"/predict\")\n",
        "def predict(data: dict):\n",
        "    df = pd.DataFrame([data])\n",
        "    prediction = model.predict(df)\n",
        "    return {\"prediction\": prediction.tolist()}\n"
      ]
    },
    {
      "cell_type": "markdown",
      "id": "RDpi2f7LQP0P",
      "metadata": {
        "id": "RDpi2f7LQP0P"
      },
      "source": []
    },
    {
      "cell_type": "code",
      "execution_count": null,
      "id": "2bc73ec4",
      "metadata": {},
      "outputs": [],
      "source": []
    }
  ],
  "metadata": {
    "colab": {
      "provenance": [],
      "toc_visible": true
    },
    "kernelspec": {
      "display_name": "venv (3.12.4)",
      "language": "python",
      "name": "python3"
    },
    "language_info": {
      "codemirror_mode": {
        "name": "ipython",
        "version": 3
      },
      "file_extension": ".py",
      "mimetype": "text/x-python",
      "name": "python",
      "nbconvert_exporter": "python",
      "pygments_lexer": "ipython3",
      "version": "3.12.4"
    },
    "widgets": {
      "application/vnd.jupyter.widget-state+json": {
        "0b168182731d4ffb9eb353ed38f888f5": {
          "model_module": "@jupyter-widgets/base",
          "model_module_version": "1.2.0",
          "model_name": "LayoutModel",
          "state": {
            "_model_module": "@jupyter-widgets/base",
            "_model_module_version": "1.2.0",
            "_model_name": "LayoutModel",
            "_view_count": null,
            "_view_module": "@jupyter-widgets/base",
            "_view_module_version": "1.2.0",
            "_view_name": "LayoutView",
            "align_content": null,
            "align_items": null,
            "align_self": null,
            "border": null,
            "bottom": null,
            "display": null,
            "flex": null,
            "flex_flow": null,
            "grid_area": null,
            "grid_auto_columns": null,
            "grid_auto_flow": null,
            "grid_auto_rows": null,
            "grid_column": null,
            "grid_gap": null,
            "grid_row": null,
            "grid_template_areas": null,
            "grid_template_columns": null,
            "grid_template_rows": null,
            "height": null,
            "justify_content": null,
            "justify_items": null,
            "left": null,
            "margin": null,
            "max_height": null,
            "max_width": null,
            "min_height": null,
            "min_width": null,
            "object_fit": null,
            "object_position": null,
            "order": null,
            "overflow": null,
            "overflow_x": null,
            "overflow_y": null,
            "padding": null,
            "right": null,
            "top": null,
            "visibility": null,
            "width": null
          }
        },
        "2c264d1fd17747b2bfc044dee0e7c79e": {
          "model_module": "@jupyter-widgets/base",
          "model_module_version": "1.2.0",
          "model_name": "LayoutModel",
          "state": {
            "_model_module": "@jupyter-widgets/base",
            "_model_module_version": "1.2.0",
            "_model_name": "LayoutModel",
            "_view_count": null,
            "_view_module": "@jupyter-widgets/base",
            "_view_module_version": "1.2.0",
            "_view_name": "LayoutView",
            "align_content": null,
            "align_items": null,
            "align_self": null,
            "border": null,
            "bottom": null,
            "display": null,
            "flex": null,
            "flex_flow": null,
            "grid_area": null,
            "grid_auto_columns": null,
            "grid_auto_flow": null,
            "grid_auto_rows": null,
            "grid_column": null,
            "grid_gap": null,
            "grid_row": null,
            "grid_template_areas": null,
            "grid_template_columns": null,
            "grid_template_rows": null,
            "height": null,
            "justify_content": null,
            "justify_items": null,
            "left": null,
            "margin": null,
            "max_height": null,
            "max_width": null,
            "min_height": null,
            "min_width": null,
            "object_fit": null,
            "object_position": null,
            "order": null,
            "overflow": null,
            "overflow_x": null,
            "overflow_y": null,
            "padding": null,
            "right": null,
            "top": null,
            "visibility": null,
            "width": null
          }
        },
        "57d4ce004ae54ab5b47e901aac2f9b85": {
          "model_module": "@jupyter-widgets/controls",
          "model_module_version": "1.5.0",
          "model_name": "ProgressStyleModel",
          "state": {
            "_model_module": "@jupyter-widgets/controls",
            "_model_module_version": "1.5.0",
            "_model_name": "ProgressStyleModel",
            "_view_count": null,
            "_view_module": "@jupyter-widgets/base",
            "_view_module_version": "1.2.0",
            "_view_name": "StyleView",
            "bar_color": null,
            "description_width": ""
          }
        },
        "6c2bd15087594a72a655573174f211c6": {
          "model_module": "@jupyter-widgets/controls",
          "model_module_version": "1.5.0",
          "model_name": "HTMLModel",
          "state": {
            "_dom_classes": [],
            "_model_module": "@jupyter-widgets/controls",
            "_model_module_version": "1.5.0",
            "_model_name": "HTMLModel",
            "_view_count": null,
            "_view_module": "@jupyter-widgets/controls",
            "_view_module_version": "1.5.0",
            "_view_name": "HTMLView",
            "description": "",
            "description_tooltip": null,
            "layout": "IPY_MODEL_0b168182731d4ffb9eb353ed38f888f5",
            "placeholder": "​",
            "style": "IPY_MODEL_9c4884b00481468c92200bcae2fbb366",
            "value": "Downloading artifacts: 100%"
          }
        },
        "778058dda7d54d30be18f9257c7dfff6": {
          "model_module": "@jupyter-widgets/controls",
          "model_module_version": "1.5.0",
          "model_name": "FloatProgressModel",
          "state": {
            "_dom_classes": [],
            "_model_module": "@jupyter-widgets/controls",
            "_model_module_version": "1.5.0",
            "_model_name": "FloatProgressModel",
            "_view_count": null,
            "_view_module": "@jupyter-widgets/controls",
            "_view_module_version": "1.5.0",
            "_view_name": "ProgressView",
            "bar_style": "success",
            "description": "",
            "description_tooltip": null,
            "layout": "IPY_MODEL_2c264d1fd17747b2bfc044dee0e7c79e",
            "max": 6,
            "min": 0,
            "orientation": "horizontal",
            "style": "IPY_MODEL_57d4ce004ae54ab5b47e901aac2f9b85",
            "value": 6
          }
        },
        "80aba6b93e5a44f6bc3e3bf9dba04c38": {
          "model_module": "@jupyter-widgets/base",
          "model_module_version": "1.2.0",
          "model_name": "LayoutModel",
          "state": {
            "_model_module": "@jupyter-widgets/base",
            "_model_module_version": "1.2.0",
            "_model_name": "LayoutModel",
            "_view_count": null,
            "_view_module": "@jupyter-widgets/base",
            "_view_module_version": "1.2.0",
            "_view_name": "LayoutView",
            "align_content": null,
            "align_items": null,
            "align_self": null,
            "border": null,
            "bottom": null,
            "display": null,
            "flex": null,
            "flex_flow": null,
            "grid_area": null,
            "grid_auto_columns": null,
            "grid_auto_flow": null,
            "grid_auto_rows": null,
            "grid_column": null,
            "grid_gap": null,
            "grid_row": null,
            "grid_template_areas": null,
            "grid_template_columns": null,
            "grid_template_rows": null,
            "height": null,
            "justify_content": null,
            "justify_items": null,
            "left": null,
            "margin": null,
            "max_height": null,
            "max_width": null,
            "min_height": null,
            "min_width": null,
            "object_fit": null,
            "object_position": null,
            "order": null,
            "overflow": null,
            "overflow_x": null,
            "overflow_y": null,
            "padding": null,
            "right": null,
            "top": null,
            "visibility": null,
            "width": null
          }
        },
        "98fdd819eae54e199559ef067fc05697": {
          "model_module": "@jupyter-widgets/controls",
          "model_module_version": "1.5.0",
          "model_name": "DescriptionStyleModel",
          "state": {
            "_model_module": "@jupyter-widgets/controls",
            "_model_module_version": "1.5.0",
            "_model_name": "DescriptionStyleModel",
            "_view_count": null,
            "_view_module": "@jupyter-widgets/base",
            "_view_module_version": "1.2.0",
            "_view_name": "StyleView",
            "description_width": ""
          }
        },
        "9c4884b00481468c92200bcae2fbb366": {
          "model_module": "@jupyter-widgets/controls",
          "model_module_version": "1.5.0",
          "model_name": "DescriptionStyleModel",
          "state": {
            "_model_module": "@jupyter-widgets/controls",
            "_model_module_version": "1.5.0",
            "_model_name": "DescriptionStyleModel",
            "_view_count": null,
            "_view_module": "@jupyter-widgets/base",
            "_view_module_version": "1.2.0",
            "_view_name": "StyleView",
            "description_width": ""
          }
        },
        "9e9b13e039f14e3396900bc7c19ed4c6": {
          "model_module": "@jupyter-widgets/base",
          "model_module_version": "1.2.0",
          "model_name": "LayoutModel",
          "state": {
            "_model_module": "@jupyter-widgets/base",
            "_model_module_version": "1.2.0",
            "_model_name": "LayoutModel",
            "_view_count": null,
            "_view_module": "@jupyter-widgets/base",
            "_view_module_version": "1.2.0",
            "_view_name": "LayoutView",
            "align_content": null,
            "align_items": null,
            "align_self": null,
            "border": null,
            "bottom": null,
            "display": null,
            "flex": null,
            "flex_flow": null,
            "grid_area": null,
            "grid_auto_columns": null,
            "grid_auto_flow": null,
            "grid_auto_rows": null,
            "grid_column": null,
            "grid_gap": null,
            "grid_row": null,
            "grid_template_areas": null,
            "grid_template_columns": null,
            "grid_template_rows": null,
            "height": null,
            "justify_content": null,
            "justify_items": null,
            "left": null,
            "margin": null,
            "max_height": null,
            "max_width": null,
            "min_height": null,
            "min_width": null,
            "object_fit": null,
            "object_position": null,
            "order": null,
            "overflow": null,
            "overflow_x": null,
            "overflow_y": null,
            "padding": null,
            "right": null,
            "top": null,
            "visibility": null,
            "width": null
          }
        },
        "a69f8588e1f84b6dad469ff277dd9397": {
          "model_module": "@jupyter-widgets/controls",
          "model_module_version": "1.5.0",
          "model_name": "HBoxModel",
          "state": {
            "_dom_classes": [],
            "_model_module": "@jupyter-widgets/controls",
            "_model_module_version": "1.5.0",
            "_model_name": "HBoxModel",
            "_view_count": null,
            "_view_module": "@jupyter-widgets/controls",
            "_view_module_version": "1.5.0",
            "_view_name": "HBoxView",
            "box_style": "",
            "children": [
              "IPY_MODEL_6c2bd15087594a72a655573174f211c6",
              "IPY_MODEL_778058dda7d54d30be18f9257c7dfff6",
              "IPY_MODEL_b74ebbe6b0d6427698c6606485147e05"
            ],
            "layout": "IPY_MODEL_80aba6b93e5a44f6bc3e3bf9dba04c38"
          }
        },
        "b74ebbe6b0d6427698c6606485147e05": {
          "model_module": "@jupyter-widgets/controls",
          "model_module_version": "1.5.0",
          "model_name": "HTMLModel",
          "state": {
            "_dom_classes": [],
            "_model_module": "@jupyter-widgets/controls",
            "_model_module_version": "1.5.0",
            "_model_name": "HTMLModel",
            "_view_count": null,
            "_view_module": "@jupyter-widgets/controls",
            "_view_module_version": "1.5.0",
            "_view_name": "HTMLView",
            "description": "",
            "description_tooltip": null,
            "layout": "IPY_MODEL_9e9b13e039f14e3396900bc7c19ed4c6",
            "placeholder": "​",
            "style": "IPY_MODEL_98fdd819eae54e199559ef067fc05697",
            "value": " 6/6 [00:00&lt;00:00, 160.60it/s]"
          }
        }
      }
    }
  },
  "nbformat": 4,
  "nbformat_minor": 5
}
